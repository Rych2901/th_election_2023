{
 "cells": [
  {
   "cell_type": "code",
   "execution_count": null,
   "id": "3aee7fd1-0b26-4e27-976d-8b80678c67fb",
   "metadata": {},
   "outputs": [],
   "source": [
    "import folium\n",
    "import geopandas as gpd\n",
    "import numpy as np\n",
    "import pandas as pd"
   ]
  },
  {
   "cell_type": "code",
   "execution_count": null,
   "id": "ebffda5a-0d16-4322-9d64-d36e020e50c5",
   "metadata": {},
   "outputs": [],
   "source": [
    "pd.ExcelFile('./data/election.xlsx').sheet_names"
   ]
  },
  {
   "cell_type": "code",
   "execution_count": null,
   "id": "01174990-b898-49ac-b936-741d0df44cb0",
   "metadata": {},
   "outputs": [],
   "source": [
    "(\n",
    "    pd.read_excel('./data/election.xlsx', sheet_name = 'constituency')\n",
    "    .head()\n",
    ")"
   ]
  },
  {
   "cell_type": "code",
   "execution_count": null,
   "id": "5eac6aa8-a4c4-4480-807d-4678a247509d",
   "metadata": {},
   "outputs": [],
   "source": []
  },
  {
   "cell_type": "code",
   "execution_count": null,
   "id": "cb0c0d71-9ebb-4889-8652-6b166e017dc2",
   "metadata": {},
   "outputs": [],
   "source": []
  },
  {
   "cell_type": "code",
   "execution_count": null,
   "id": "1e23d983-196e-45ce-bd30-a76fb83bd3d4",
   "metadata": {},
   "outputs": [],
   "source": []
  },
  {
   "cell_type": "code",
   "execution_count": null,
   "id": "acde9753-3497-466e-9c02-13926aa12efb",
   "metadata": {},
   "outputs": [],
   "source": [
    "gdf = (\n",
    "    gpd.read_file('./geodata/2566_TH_ECT_attributes.shp')\n",
    "    .query('''P_name == 'กรุงเทพมหานคร' ''')\n",
    ")"
   ]
  },
  {
   "cell_type": "code",
   "execution_count": null,
   "id": "6449a3f0-7494-428c-af04-d8efe518bda4",
   "metadata": {},
   "outputs": [],
   "source": [
    "m = folium.Map(tiles = 'CartoDB positron')\n",
    "\n",
    "folium.GeoJson(\n",
    "    gdf, name = 'Election Area',\n",
    "    style_function = lambda feature: {\n",
    "        'color': 'black', 'weight': 1, 'opacity': 1.5,\n",
    "        'fillColor': 'yellow', 'fillOpacity': 1\n",
    "    }\n",
    ").add_to(m)\n",
    "\n",
    "m.fit_bounds(m.get_bounds())\n",
    "\n",
    "m"
   ]
  }
 ],
 "metadata": {
  "kernelspec": {
   "display_name": "Python 3 (ipykernel)",
   "language": "python",
   "name": "python3"
  },
  "language_info": {
   "codemirror_mode": {
    "name": "ipython",
    "version": 3
   },
   "file_extension": ".py",
   "mimetype": "text/x-python",
   "name": "python",
   "nbconvert_exporter": "python",
   "pygments_lexer": "ipython3",
   "version": "3.9.16"
  }
 },
 "nbformat": 4,
 "nbformat_minor": 5
}
