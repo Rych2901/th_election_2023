{
 "cells": [
  {
   "cell_type": "code",
   "execution_count": null,
   "id": "29448d84-6c52-495b-b15d-70ccac36c7e9",
   "metadata": {},
   "outputs": [],
   "source": [
    "import numpy as np\n",
    "import pandas as pd"
   ]
  },
  {
   "cell_type": "code",
   "execution_count": null,
   "id": "b5c57814-fdd9-479e-a345-5337f08dc015",
   "metadata": {},
   "outputs": [],
   "source": [
    "XL_PATH = './data/election.xlsx'\n",
    "\n",
    "(\n",
    "    pd.ExcelFile(XL_PATH).sheet_names\n",
    ")"
   ]
  },
  {
   "cell_type": "code",
   "execution_count": null,
   "id": "2a96d094-4b59-4de7-b912-5eec96f43ca9",
   "metadata": {},
   "outputs": [],
   "source": [
    "cols = ['cons_id', 'cons_no', 'party_id', 'candidate']\n",
    "\n",
    "(\n",
    "    pd.read_excel(XL_PATH, sheet_name = 2, header = None)\n",
    "    .iloc[:, :4]\n",
    "    .set_axis(cols, axis = 'columns')\n",
    "    .assign(\n",
    "        candidate = lambda df: df['candidate'].str.strip(),\n",
    "        gender = lambda df: np.where(\n",
    "            df['candidate'].str[:3] == 'นาง', 'Female', 'Male'\n",
    "        ),\n",
    "        province_abbrev_en = lambda df: df['cons_id'].str[:3]\n",
    "    )\n",
    "    .merge(\n",
    "        prov_, how = 'left', on = 'province_abbrev_en'\n",
    "    )\n",
    "    .drop(columns = ['province_abbrev_en'])\n",
    "    .to_clipboard(index = False)\n",
    ")"
   ]
  },
  {
   "cell_type": "code",
   "execution_count": null,
   "id": "fdbd3dc0-221c-4d59-a55d-c1c1928279a1",
   "metadata": {},
   "outputs": [],
   "source": [
    "prov_.head()"
   ]
  },
  {
   "cell_type": "code",
   "execution_count": null,
   "id": "5d1ddba1-1fb0-4596-9370-b2018f3ddd55",
   "metadata": {},
   "outputs": [],
   "source": [
    "(\n",
    "    pd.read_excel(XL_PATH, sheet_name = 'จังหวัด')\n",
    "    .iloc[:, :5]\n",
    "    .set_axis(['prov_id', 'prov_abb_en', 'prov_th', 'prov_abb_th', 'prov_en'], axis = 'columns')\n",
    "    .assign(\n",
    "        **{\n",
    "            col: lambda df, col = col: df[col].str.strip() for col in ['prov_abb_en', 'prov_th', 'prov_abb_th', 'prov_en']\n",
    "        }\n",
    "    )\n",
    "    .to_clipboard(index = False)\n",
    ")"
   ]
  },
  {
   "cell_type": "code",
   "execution_count": null,
   "id": "75bb8f73-ae15-43b1-ae88-2f5562a803d6",
   "metadata": {},
   "outputs": [],
   "source": [
    "(\n",
    "    pd.read_excel(XL_PATH, sheet_name = 'ผู้สมัครบัญชีรายชื่อ', header = None)\n",
    "    .set_axis(['partylist_id', 'candidate', 'url', 'partylist_no'], axis = 'columns')\n",
    "    .assign(\n",
    "        candidate = lambda df: df['candidate'].str.strip(),\n",
    "        gender = lambda df: np.where(\n",
    "            df['candidate'].str[:3] == 'นาง', 'Female', 'Male'\n",
    "        ),\n",
    "    )\n",
    "    .drop(columns = ['url'])\n",
    "    .to_clipboard(index = False)\n",
    ")"
   ]
  },
  {
   "cell_type": "code",
   "execution_count": null,
   "id": "276092e9-6773-458a-926f-b477c96c4acd",
   "metadata": {},
   "outputs": [],
   "source": []
  }
 ],
 "metadata": {
  "kernelspec": {
   "display_name": "Python 3 (ipykernel)",
   "language": "python",
   "name": "python3"
  },
  "language_info": {
   "codemirror_mode": {
    "name": "ipython",
    "version": 3
   },
   "file_extension": ".py",
   "mimetype": "text/x-python",
   "name": "python",
   "nbconvert_exporter": "python",
   "pygments_lexer": "ipython3",
   "version": "3.9.16"
  }
 },
 "nbformat": 4,
 "nbformat_minor": 5
}
