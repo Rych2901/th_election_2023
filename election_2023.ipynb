{
 "cells": [
  {
   "cell_type": "markdown",
   "id": "88af6bd8-7791-4f9d-b5e1-3952e5d1d3c5",
   "metadata": {},
   "source": [
    "# Thailand General Election 2023"
   ]
  },
  {
   "cell_type": "code",
   "execution_count": null,
   "id": "646f5154-9d22-477c-8e7d-a7505c703ccd",
   "metadata": {
    "tags": []
   },
   "outputs": [],
   "source": [
    "# configuration setting\n",
    "%config InlineBackend.figure_format = 'retina'\n",
    "\n",
    "\n",
    "# libraries\n",
    "import holoviews as hv\n",
    "import pandas as pd\n",
    "\n",
    "from pandas.api.types import CategoricalDtype"
   ]
  },
  {
   "cell_type": "code",
   "execution_count": null,
   "id": "e774e173-bc04-4c19-9491-4847fa8177c5",
   "metadata": {
    "tags": []
   },
   "outputs": [],
   "source": [
    "# module extension\n",
    "hv.extension('bokeh')"
   ]
  },
  {
   "cell_type": "code",
   "execution_count": null,
   "id": "fbf52cb7-ba7c-4a19-8ce7-f065f55f4cfe",
   "metadata": {
    "tags": []
   },
   "outputs": [],
   "source": [
    "class PartyListResultAnalysis:\n",
    "    '''\n",
    "        Party List Result Data Preparation\n",
    "        \n",
    "        A class to create dataframe for Party List Vote result\n",
    "    '''\n",
    "    \n",
    "    # static variable\n",
    "    XL_PATH = './data/raw_data.xlsx'\n",
    "    \n",
    "    \n",
    "    def data_prep(self):\n",
    "        party = (\n",
    "            pd.read_excel(self.XL_PATH, sheet_name = 'dbParty')\n",
    "            [['party_id', 'party_name_en', 'party_color']]\n",
    "            .sort_values(by = 'party_id')\n",
    "            .assign(\n",
    "                party_name_en = lambda df: df['party_name_en']\n",
    "                .astype('category').cat.as_ordered()\n",
    "            )\n",
    "        )\n",
    "        \n",
    "        province = (\n",
    "            pd.read_excel(self.XL_PATH, sheet_name = 'dbProvince')\n",
    "            [['prov_id', 'prov_en']]\n",
    "        )\n",
    "        \n",
    "        data = (\n",
    "            pd.read_excel(self.XL_PATH, sheet_name = 'dbPartyListResult')\n",
    "            .merge(party, how = 'left', on = 'party_id')\n",
    "            .merge(province, how = 'left', on = 'prov_id')\n",
    "            .drop(columns = ['prov_id', 'party_id'])\n",
    "            .astype({\n",
    "                'cons_no': 'uint8', 'partylist_vote': 'uint32'\n",
    "            })\n",
    "        )\n",
    "\n",
    "        return data"
   ]
  },
  {
   "cell_type": "code",
   "execution_count": null,
   "id": "0ab88bca-0de6-433c-b0f1-d92a15fa6533",
   "metadata": {},
   "outputs": [],
   "source": [
    "df = PartyListResultAnalysis().data_prep()"
   ]
  },
  {
   "cell_type": "code",
   "execution_count": null,
   "id": "6dc8f6cb-870b-497c-a787-b75cf194e46c",
   "metadata": {
    "tags": []
   },
   "outputs": [],
   "source": [
    "(\n",
    "    df\n",
    "    .groupby('party_name_en')\n",
    "    .agg(n_vote = ('partylist_vote', 'sum'))\n",
    "    .sort_index(ascending = False)\n",
    ")"
   ]
  },
  {
   "cell_type": "code",
   "execution_count": null,
   "id": "25011f3c-ea34-4219-a711-16346b3f1f1a",
   "metadata": {
    "tags": []
   },
   "outputs": [],
   "source": [
    "(\n",
    "    pd.read_excel('./data/raw_data.xlsx', sheet_name = 'dbParty')\n",
    "    .info()\n",
    ")"
   ]
  },
  {
   "cell_type": "code",
   "execution_count": null,
   "id": "40535cf5-0210-4426-bb5a-2e3c1e4167c5",
   "metadata": {},
   "outputs": [],
   "source": []
  }
 ],
 "metadata": {
  "kernelspec": {
   "display_name": "Python 3 (ipykernel)",
   "language": "python",
   "name": "python3"
  },
  "language_info": {
   "codemirror_mode": {
    "name": "ipython",
    "version": 3
   },
   "file_extension": ".py",
   "mimetype": "text/x-python",
   "name": "python",
   "nbconvert_exporter": "python",
   "pygments_lexer": "ipython3",
   "version": "3.11.2"
  }
 },
 "nbformat": 4,
 "nbformat_minor": 5
}
